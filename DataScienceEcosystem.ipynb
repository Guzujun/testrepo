{
  "cells": [
    {
      "cell_type": "markdown",
      "metadata": {
        "id": "Z5pYe_o91dtv"
      },
      "source": [
        "# Data Science Tools and Ecosystem"
      ]
    },
    {
      "cell_type": "markdown",
      "metadata": {
        "id": "0ngEf1EZ1hHE"
      },
      "source": [
        "##**Introduction**:\n",
        "###In this notebook, Data Science tools and ecosystem are summarized."
      ]
    },
    {
      "cell_type": "markdown",
      "metadata": {
        "id": "fqD_Oo9JCUJu"
      },
      "source": [
        "##**Objectives:**\n",
        "\n",
        "List the popular languages in Data Science\n",
        "\n",
        "List the common used libraries in Data Science\n",
        "\n",
        "List some Data Tools\n",
        "\n",
        "Use python to complement arithmetic pratice"
      ]
    },
    {
      "cell_type": "markdown",
      "metadata": {
        "id": "r7gbtJaz2okY"
      },
      "source": [
        "##some of the most popular languages that scientists use are:\n",
        "\n",
        "\n",
        "###1.   the most recommended\n",
        "\n",
        "\n",
        "\n",
        "*   Python\n",
        "*   R\n",
        "*   SQL\n",
        "\n",
        "\n",
        "\n",
        "###2.   others with important features:\n",
        "\n",
        "\n",
        "*   Scala\n",
        "*   Java\n",
        "*   C++\n",
        "*   Julia\n",
        "*   JavaScript\n",
        "*   PHP\n",
        "*   Go\n",
        "*   Ruby\n",
        "*   Visual Basic\n"
      ]
    },
    {
      "cell_type": "markdown",
      "metadata": {
        "id": "PezmxjJw4QVX"
      },
      "source": [
        "##Some of the most common used libraries used by data scientist include:\n",
        "\n",
        "\n",
        "###1.   Python Libraries:\n",
        "\n",
        "\n",
        "*   Scientific Computing Libraries\n",
        "\n",
        "\n",
        "\n",
        "> Pandas\n",
        "\n",
        "\n",
        "> Numpy\n",
        "\n",
        "\n",
        "\n",
        "*   Visualization Libraries\n",
        "\n",
        "> Matplotlib\n",
        "\n",
        "\n",
        "> Seaborn\n",
        "\n",
        "*   Hight Level-Machine Learning and Deep Learning Libraries \n",
        "\n",
        "> Scikit-learn\n",
        "\n",
        ">Keras\n",
        "\n",
        "*   Deep Learning Libraries\n",
        "\n",
        ">TensorFlow\n",
        "\n",
        ">Pytorch\n",
        "\n",
        "\n",
        "\n",
        "###2.   Libraries used in other languages\n",
        "* Apache Spark\n",
        "\n",
        "* Libraries in Scala\n",
        "\n",
        "> Vegas\n",
        "\n",
        "> Big DL\n",
        "\n",
        "* Libraries in R \n",
        "\n",
        "> GGplot2\n",
        "\n",
        ">Libraries that can interface with Keras and TensorFlow \n",
        "\n"
      ]
    },
    {
      "cell_type": "markdown",
      "metadata": {
        "id": "tRdJBMzK9c7q"
      },
      "source": [
        "##Data Science Tools\n",
        "(ONLY displaying three main tools)\n",
        "\n",
        "*   MySQL\n",
        "*   Jupyter\n",
        "*   Watson Studio\n",
        "\n"
      ]
    },
    {
      "cell_type": "markdown",
      "metadata": {
        "id": "iYzPVeZnAOXw"
      },
      "source": [
        "### Below are a few examples of evaluating arithmetic expressions in Python"
      ]
    },
    {
      "cell_type": "code",
      "execution_count": 1,
      "metadata": {
        "colab": {
          "base_uri": "https://localhost:8080/"
        },
        "id": "kCIH5WilAkU5",
        "outputId": "4062a8db-12bc-4ca9-8e36-aff2e80ba809"
      },
      "outputs": [
        {
          "data": {
            "text/plain": [
              "17"
            ]
          },
          "execution_count": 1,
          "metadata": {},
          "output_type": "execute_result"
        }
      ],
      "source": [
        "#This a simple arithmetic expression to mutiply then add integers\n",
        "\n",
        "(3*4)+5"
      ]
    },
    {
      "cell_type": "code",
      "execution_count": 3,
      "metadata": {
        "colab": {
          "base_uri": "https://localhost:8080/"
        },
        "id": "jQwSWUFMBCqK",
        "outputId": "0fa03469-a884-4ca6-e125-1fb3152cddd1"
      },
      "outputs": [
        {
          "name": "stdout",
          "output_type": "stream",
          "text": [
            "200 minutes equals3.3333333333333335hours\n"
          ]
        }
      ],
      "source": [
        "#This will convert 200 minutes to hours by diving by 60\n",
        "\n",
        "print('200 minutes equals' + str(200 /60) + 'hours')"
      ]
    },
    {
      "cell_type": "markdown",
      "metadata": {
        "id": "i_Vo19Q4DXoP"
      },
      "source": [
        "## Author\n",
        "Gu Zujun"
      ]
    }
  ],
  "metadata": {
    "colab": {
      "provenance": []
    },
    "kernelspec": {
      "display_name": "Python 3",
      "language": "python",
      "name": "python3"
    },
    "language_info": {
      "name": "python",
      "version": "3.10.7 (v3.10.7:6cc6b13308, Sep  5 2022, 14:02:52) [Clang 13.0.0 (clang-1300.0.29.30)]"
    },
    "vscode": {
      "interpreter": {
        "hash": "98590ff4fe04c8543246b2a01debd3de3c5ca9b666f43f1fa87d5110c692004c"
      }
    }
  },
  "nbformat": 4,
  "nbformat_minor": 0
}
